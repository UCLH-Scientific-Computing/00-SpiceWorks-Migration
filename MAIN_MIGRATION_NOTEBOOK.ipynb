{
 "cells": [
  {
   "cell_type": "markdown",
   "metadata": {},
   "source": [
    "### WorkFlow (Spiceworks -> OsTicket)\n",
    "\n",
    "for ticket_id in all_spiceworks_ticket_ids:\n",
    "FOR SW_TICKET_ID IN ALL_SW_TICKET_IDS:\n",
    "\n",
    "--------------------- SPICEWORKS EXPORT ---------------------\n",
    "\n",
    "    1. TD = GET_TICKET(SW_TICKET_ID)\n",
    "    \n",
    "    2. UD = GET_USER(TD['ASSIGNED_TO'])\n",
    "    \n",
    "    3. CD = GET_COMMENT(SW_TICKET_ID)\n",
    "\n",
    " ----------------------- OSTICKET IMPORT -----------------------\n",
    "\n",
    "    4. OS_USER_ID = CREATE_USER_IF_NOT_EXISTS(USER_DETAILS)\n",
    "\n",
    "    5. BUILD TICKET_DETAILS DICTIONARY \n",
    "\n",
    "    6. OS_TICKET_ID = CREATE_TICKET(TICKET_DETAILS)\n",
    "\n",
    "    7. BUILD COMMENT_DETAILS DICTIONARY \n",
    "\n",
    "    8. OS_THREAD_ID = CREATE_COMMENT(COMMENT_DETAILS)"
   ]
  },
  {
   "cell_type": "markdown",
   "metadata": {},
   "source": [
    "##### Import Functions/Libraries"
   ]
  },
  {
   "cell_type": "code",
   "execution_count": 1,
   "metadata": {},
   "outputs": [],
   "source": [
    "from get_ticket import get_ticket\n",
    "from get_user import get_user\n",
    "from get_comments import get_comments\n",
    "from create_ticket_helper_fns import check_key_in_json_file"
   ]
  },
  {
   "cell_type": "markdown",
   "metadata": {},
   "source": [
    "##### Define Ticket ID"
   ]
  },
  {
   "cell_type": "code",
   "execution_count": 2,
   "metadata": {},
   "outputs": [],
   "source": [
    "ticket_id = 30"
   ]
  },
  {
   "cell_type": "markdown",
   "metadata": {},
   "source": [
    "##### 1. SPICEWORKS EXPORT: Get Ticket Details"
   ]
  },
  {
   "cell_type": "code",
   "execution_count": 7,
   "metadata": {},
   "outputs": [
    {
     "data": {
      "text/plain": [
       "{'id': 30,\n",
       " 'summary': 'Access to the cancer share drive',\n",
       " 'description': 'Hello\\n\\nI’m not sure this is the correct group to contact but I need access to the Cancer share drive. Is this something you could help with?\\n\\nKind regards\\n\\nSteph Karis – Senior Radiotherapy Dosimetrist\\n\\nRadiotherapy Physics Department\\n\\nDirect line telephone:020 3447 7732\\n\\nWe are committed to delivering top-quality patient care, excellent education and world class research\\n\\nsafety kindness teamwork improving\\n\\nUCLH website | Media | Become a member | Support our charities | Contact UCLH\\n\\nFind us on Facebook | Follow us on Twitt',\n",
       " 'created_at': '2020-04-30 13:25:27',\n",
       " 'closed_at': '2020-05-01 16:12:01',\n",
       " 'created_by': 's.karis@nhs.net',\n",
       " 'assigned_to': 'david.taylor4@nhs.net',\n",
       " 'spe': 'SHARE DRIVE',\n",
       " 'department': 'RADIOTHERAPY'}"
      ]
     },
     "execution_count": 7,
     "metadata": {},
     "output_type": "execute_result"
    }
   ],
   "source": [
    "sw_ticket_details = get_ticket(ticket_id)\n",
    "sw_ticket_details"
   ]
  },
  {
   "cell_type": "markdown",
   "metadata": {},
   "source": [
    "##### 2. SPICEWORKS EXPORT: Get User Details"
   ]
  },
  {
   "cell_type": "code",
   "execution_count": 9,
   "metadata": {},
   "outputs": [
    {
     "data": {
      "text/plain": [
       "{'id': 8,\n",
       " 'email': 'david.taylor4@nhs.net',\n",
       " 'name': 'David Taylor',\n",
       " 'phone': None}"
      ]
     },
     "execution_count": 9,
     "metadata": {},
     "output_type": "execute_result"
    }
   ],
   "source": [
    "sw_user_details = get_user(sw_ticket_details['assigned_to'])\n",
    "sw_user_details"
   ]
  },
  {
   "cell_type": "markdown",
   "metadata": {},
   "source": [
    "##### 3. SPICEWORKS EXPORT: Get Comment Details"
   ]
  },
  {
   "cell_type": "code",
   "execution_count": 11,
   "metadata": {},
   "outputs": [
    {
     "data": {
      "text/plain": [
       "{'id': 30,\n",
       " 'body': '<h2>From Spiceworks</h2><h3><code>david.taylor4@nhs.net</code> on 2020-05-01 16:12:01:</h3><p>Ticket closed: sent email to user, advised would need to request Cancer Share access through Atos/ServiceNow as MedPhys cannot provision</p><hr><h3><code>david.taylor4@nhs.net</code> on 2020-04-30 17:35:59:</h3><p>Assigned to David Taylor.</p><hr><h3><code>s.karis@nhs.net</code> on 2020-04-30 13:25:27:</h3><p>Attachment:</p><p><em>image001.png</em></p><hr>Attachments folder: <code>Tickets/30</code>'}"
      ]
     },
     "execution_count": 11,
     "metadata": {},
     "output_type": "execute_result"
    }
   ],
   "source": [
    "sw_comment_details = get_comments(ticket_id)\n",
    "sw_comment_details"
   ]
  },
  {
   "cell_type": "markdown",
   "metadata": {},
   "source": [
    "### Convert Dictionaries (Spiceworks -> OsTicket)"
   ]
  },
  {
   "cell_type": "markdown",
   "metadata": {},
   "source": [
    "##### User Detail Conversion\n",
    "\n",
    "No conversion needed. \n",
    "\n",
    "##### Comment Detail Conversion \n",
    "\n",
    "|sw_comment_details|os_comment_details|\n",
    "|------------------|------------------|\n",
    "| 'id'             | 'ticket_id' (ost_ticket id)    |\n",
    "| 'body'           | 'body_html'      |\n",
    "|                  | 'staff_name'     |\n",
    "|                  | 'title'          |\n",
    "|                  | 'staff_id'       |"
   ]
  },
  {
   "cell_type": "code",
   "execution_count": 1,
   "metadata": {},
   "outputs": [
    {
     "ename": "NameError",
     "evalue": "name 'sw_comment_details' is not defined",
     "output_type": "error",
     "traceback": [
      "\u001b[1;31m---------------------------------------------------------------------------\u001b[0m",
      "\u001b[1;31mNameError\u001b[0m                                 Traceback (most recent call last)",
      "Cell \u001b[1;32mIn[1], line 2\u001b[0m\n\u001b[0;32m      1\u001b[0m os_comment_details \u001b[39m=\u001b[39m {}\n\u001b[1;32m----> 2\u001b[0m os_comment_details[\u001b[39m'\u001b[39m\u001b[39mticket_id\u001b[39m\u001b[39m'\u001b[39m] \u001b[39m=\u001b[39m sw_comment_details[\u001b[39m'\u001b[39m\u001b[39mid\u001b[39m\u001b[39m'\u001b[39m]\n\u001b[0;32m      3\u001b[0m os_comment_details[\u001b[39m'\u001b[39m\u001b[39mbody_html\u001b[39m\u001b[39m'\u001b[39m] \u001b[39m=\u001b[39m sw_comment_details[\u001b[39m'\u001b[39m\u001b[39mbody\u001b[39m\u001b[39m'\u001b[39m]\n\u001b[0;32m      4\u001b[0m os_comment_details[\u001b[39m'\u001b[39m\u001b[39mstaff_name\u001b[39m\u001b[39m'\u001b[39m] \u001b[39m=\u001b[39m \u001b[39m'\u001b[39m\u001b[39mImport Bot\u001b[39m\u001b[39m'\u001b[39m\n",
      "\u001b[1;31mNameError\u001b[0m: name 'sw_comment_details' is not defined"
     ]
    }
   ],
   "source": [
    "os_comment_details = {}\n",
    "# os_comment_details['ticket_id'] = create_ticket output is id of new ticket created \n",
    "os_comment_details['body_html'] = sw_comment_details['body']\n",
    "os_comment_details['staff_name'] = 'Import Bot'\n",
    "os_comment_details['staff_id'] = 11\n",
    "os_comment_details['title'] = 'All Replies/Comments'\n",
    "os_comment_details"
   ]
  },
  {
   "cell_type": "markdown",
   "metadata": {},
   "source": [
    "##### Ticket Detail Conversion \n",
    "\n",
    "|sw_ticket_details   |os_ticket_details      |\n",
    "|--------------------|-----------------------|\n",
    "| 'id'               | 'id' (spiceworks id num)|\n",
    "| 'summary'          | 'summary'             |\n",
    "| 'description'      | 'description'         |\n",
    "| 'created_at'       | 'created_at'          |\n",
    "| 'closed_at'        | 'closed_at'           |\n",
    "| 'created_by' (email)| 'created_by' (osTicket user id)|\n",
    "|                    | 'created_by_email'    |\n",
    "| 'assigned_to'  (email)| 'assigned_to' (osTicket staff id)|\n",
    "|                    | 'assigned_to_username'|\n",
    "| 'spe' (spiceworks spe)| 'spe' (osTicket spe)|\n",
    "|                    | 'spe_id' (osTicket spe ID)|\n",
    "| 'department' (spiceworks dept.)| 'department' (osTicket dept.)|\n",
    "|                    | 'department_id' (osTicket dept. id)\n",
    "\n",
    "Can do all except `created_by` osTicket user ID before import \n",
    " \n",
    "if `assigned_to` (email) in current staff_dict:\n",
    "\n",
    "        replace with osticket staff id \n",
    "\n",
    "else:\n",
    "\n",
    "        set to Import Bot"
   ]
  },
  {
   "cell_type": "code",
   "execution_count": null,
   "metadata": {},
   "outputs": [],
   "source": []
  },
  {
   "cell_type": "markdown",
   "metadata": {},
   "source": [
    "### WorkFlow (Spiceworks -> OsTicket)\n",
    "\n",
    "for ticket_id in all_spiceworks_ticket_ids:\n",
    "FOR SW_TICKET_ID IN ALL_SW_TICKET_IDS:\n",
    "\n",
    "--------------------- SPICEWORKS EXPORT ---------------------\n",
    "\n",
    "    1. TD = GET_TICKET(SW_TICKET_ID)\n",
    "    \n",
    "    2. UD = GET_USER(TD['ASSIGNED_TO'])\n",
    "    \n",
    "    3. CD = GET_COMMENT(SW_TICKET_ID)\n",
    "\n",
    " ----------------------- OSTICKET IMPORT -----------------------\n",
    "\n",
    "    4. OS_USER_ID = CREATE_USER_IF_NOT_EXISTS(USER_DETAILS)\n",
    "\n",
    "    5. BUILD TICKET_DETAILS DICTIONARY \n",
    "\n",
    "    6. OS_TICKET_ID = CREATE_TICKET(TICKET_DETAILS)\n",
    "\n",
    "    7. BUILD COMMENT_DETAILS DICTIONARY \n",
    "\n",
    "    8. OS_THREAD_ID = CREATE_COMMENT(COMMENT_DETAILS)"
   ]
  },
  {
   "cell_type": "markdown",
   "metadata": {},
   "source": []
  }
 ],
 "metadata": {
  "kernelspec": {
   "display_name": "Python 3",
   "language": "python",
   "name": "python3"
  },
  "language_info": {
   "codemirror_mode": {
    "name": "ipython",
    "version": 3
   },
   "file_extension": ".py",
   "mimetype": "text/x-python",
   "name": "python",
   "nbconvert_exporter": "python",
   "pygments_lexer": "ipython3",
   "version": "3.11.0"
  },
  "orig_nbformat": 4
 },
 "nbformat": 4,
 "nbformat_minor": 2
}
