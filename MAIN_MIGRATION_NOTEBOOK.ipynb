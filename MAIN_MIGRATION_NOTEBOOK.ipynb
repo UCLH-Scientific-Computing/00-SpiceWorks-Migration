{
 "cells": [
  {
   "cell_type": "markdown",
   "metadata": {},
   "source": [
    "### WorkFlow (Spiceworks -> OsTicket)\n",
    "\n",
    "Author:   Sierra Bonilla\n",
    "<br></br>\n",
    "Date:     04-08-2023\n",
    "<br></br>\n",
    "\n",
    "\n",
    "      FOR SW_TICKET_ID IN ALL_SW_TICKET_IDS:\n",
    "\n",
    "      --------------------- SPICEWORKS EXPORT ---------------------\n",
    "\n",
    "         1. TD = GET_TICKET(SW_TICKET_ID)\n",
    "         \n",
    "         2. UD = GET_USER(TD['ASSIGNED_TO'])\n",
    "         \n",
    "         3. CD = GET_COMMENT(SW_TICKET_ID)\n",
    "\n",
    "      ----------------------- OSTICKET IMPORT -----------------------\n",
    "\n",
    "         4. OS_USER_ID = CREATE_USER_IF_NOT_EXISTS(USER_DETAILS)\n",
    "\n",
    "         5. BUILD TICKET_DETAILS DICTIONARY \n",
    "\n",
    "         6. OS_TICKET_ID = CREATE_TICKET(TICKET_DETAILS)\n",
    "\n",
    "         7. BUILD COMMENT_DETAILS DICTIONARY \n",
    "\n",
    "         8. OS_THREAD_ID = CREATE_COMMENT(COMMENT_DETAILS)"
   ]
  },
  {
   "cell_type": "markdown",
   "metadata": {},
   "source": [
    "##### Import Functions/Libraries"
   ]
  },
  {
   "cell_type": "code",
   "execution_count": 1,
   "metadata": {},
   "outputs": [],
   "source": [
    "from get_ticket import get_ticket\n",
    "from get_user import get_user\n",
    "from get_comments import get_comments\n",
    "from create_ticket_helper_fns import check_key_in_json_file\n",
    "from create_user import create_user_if_not_exists\n",
    "from create_ticket import create_ticket\n",
    "from create_comment import create_comment"
   ]
  },
  {
   "cell_type": "markdown",
   "metadata": {},
   "source": [
    "##### Define Global Variables & File Paths"
   ]
  },
  {
   "cell_type": "code",
   "execution_count": 2,
   "metadata": {},
   "outputs": [],
   "source": [
    "ticket_id = 3745\n",
    "hostname = 'spiceworks'\n",
    "database = 'osticket-clone'\n",
    "\n",
    "staff_id_file = r'dictionaries\\staff_email_to_id.txt'\n",
    "staff_username_file = r'dictionaries\\staff_email_to_un.txt'\n",
    "spe_file = r'dictionaries\\sw_spe_to_os_spe.txt'\n",
    "spe_id_file = r'dictionaries\\sw_spe_to_os_spe_id.txt'\n",
    "dep_file = r'dictionaries\\sw_dep_to_os_dep.txt'\n",
    "dep_id_file = r'dictionaries\\sw_dep_to_os_dep_id.txt'\n",
    "\n",
    "import_bot_id = 11\n",
    "import_bot_username = \"irobot\"\n",
    "import_bot_name = \"Import Bot\""
   ]
  },
  {
   "cell_type": "markdown",
   "metadata": {},
   "source": [
    "##### **1. SPICEWORKS EXPORT:** Get Ticket Details"
   ]
  },
  {
   "cell_type": "code",
   "execution_count": null,
   "metadata": {},
   "outputs": [],
   "source": [
    "sw_ticket_details = get_ticket(ticket_id)\n",
    "sw_ticket_details"
   ]
  },
  {
   "cell_type": "markdown",
   "metadata": {},
   "source": [
    "##### **2. SPICEWORKS EXPORT:** Get User Details"
   ]
  },
  {
   "cell_type": "code",
   "execution_count": null,
   "metadata": {},
   "outputs": [],
   "source": [
    "sw_user_details = get_user(sw_ticket_details['created_by'])\n",
    "sw_user_details"
   ]
  },
  {
   "cell_type": "markdown",
   "metadata": {},
   "source": [
    "##### **3. SPICEWORKS EXPORT:** Get Comment Details"
   ]
  },
  {
   "cell_type": "code",
   "execution_count": null,
   "metadata": {},
   "outputs": [],
   "source": [
    "sw_comment_details = get_comments(ticket_id)\n",
    "sw_comment_details"
   ]
  },
  {
   "cell_type": "markdown",
   "metadata": {},
   "source": [
    "##### **4. OSTICKET IMPORT:** Create User "
   ]
  },
  {
   "cell_type": "code",
   "execution_count": null,
   "metadata": {},
   "outputs": [],
   "source": [
    "os_user_result = create_user_if_not_exists(sw_user_details, hostname=hostname, database=database)\n",
    "if os_user_result[0]:\n",
    "    print('User was created!')\n",
    "    print('\\U0001F47D User email: {}\\n\\U0001F47D User ID: {}\\n'.format(sw_user_details[\"email\"], os_user_result[1]))\n",
    "else:\n",
    "    print('User already exists! \\n\\U0001F480 User email: {}'.format(sw_user_details[\"email\"]))\n",
    "    print('\\U0001F480 User ID: {}\\n'.format(os_user_result[1]))"
   ]
  },
  {
   "cell_type": "markdown",
   "metadata": {},
   "source": [
    "##### **5. OSTICKET IMPORT:** Build Ticket Details "
   ]
  },
  {
   "cell_type": "markdown",
   "metadata": {},
   "source": [
    "##### Ticket Detail Conversion Table\n",
    "\n",
    "|sw_ticket_details   |os_ticket_details      |\n",
    "|--------------------|-----------------------|\n",
    "| 'id'               | 'id' (spiceworks id num)|\n",
    "| 'summary'          | 'summary'             |\n",
    "| 'description'      | 'description'         |\n",
    "| 'created_at'       | 'created_at'          |\n",
    "| 'closed_at'        | 'closed_at'           |\n",
    "| 'created_by' (email)| 'created_by' (osTicket user id)|\n",
    "|                    | 'created_by_email'    |\n",
    "| 'assigned_to'  (email)| 'assigned_to' (osTicket staff id)|\n",
    "|                    | 'assigned_to_username'|\n",
    "| 'spe' (spiceworks spe)| 'spe' (osTicket spe)|\n",
    "|                    | 'spe_id' (osTicket spe ID)|\n",
    "| 'department' (spiceworks dept.)| 'department' (osTicket dept.)|\n",
    "|                    | 'department_id' (osTicket dept. id)"
   ]
  },
  {
   "cell_type": "code",
   "execution_count": 7,
   "metadata": {},
   "outputs": [],
   "source": [
    "os_ticket_details = {}\n",
    "os_ticket_details[\"id\"] = sw_ticket_details[\"id\"]\n",
    "os_ticket_details[\"summary\"] = sw_ticket_details[\"summary\"]\n",
    "os_ticket_details[\"description\"] = sw_ticket_details[\"description\"]\n",
    "os_ticket_details[\"created_at\"] = sw_ticket_details[\"created_at\"]\n",
    "os_ticket_details[\"closed_at\"] = sw_ticket_details[\"closed_at\"]\n",
    "os_ticket_details[\"created_by\"] = os_user_result[1]\n",
    "os_ticket_details[\"created_by_email\"] = sw_user_details[\"email\"]"
   ]
  },
  {
   "cell_type": "markdown",
   "metadata": {},
   "source": [
    "`assigned_to`"
   ]
  },
  {
   "cell_type": "code",
   "execution_count": 8,
   "metadata": {},
   "outputs": [],
   "source": [
    "assigned_to_results = check_key_in_json_file(sw_ticket_details[\"assigned_to\"], staff_id_file)\n",
    "if assigned_to_results[0]:\n",
    "    os_ticket_details[\"assigned_to\"] = assigned_to_results[1]\n",
    "    os_ticket_details[\"assigned_to_username\"] = check_key_in_json_file(sw_ticket_details[\"assigned_to\"], staff_username_file)[1]\n",
    "else:\n",
    "    os_ticket_details[\"assigned_to\"] = import_bot_id\n",
    "    os_ticket_details[\"assigned_to_username\"] = import_bot_username "
   ]
  },
  {
   "cell_type": "markdown",
   "metadata": {},
   "source": [
    "`spe`"
   ]
  },
  {
   "cell_type": "code",
   "execution_count": 9,
   "metadata": {},
   "outputs": [],
   "source": [
    "spe_results = check_key_in_json_file(sw_ticket_details[\"spe\"], spe_file)\n",
    "if spe_results[0]:\n",
    "    os_ticket_details[\"spe\"] = spe_results[1]\n",
    "    os_ticket_details[\"spe_id\"] = check_key_in_json_file(sw_ticket_details[\"spe\"], spe_id_file)[1]\n",
    "else:\n",
    "    os_ticket_details[\"spe\"] = \"IMPORTED\"\n",
    "    os_ticket_details[\"spe_id\"] = 46"
   ]
  },
  {
   "cell_type": "markdown",
   "metadata": {},
   "source": [
    "`dept`"
   ]
  },
  {
   "cell_type": "code",
   "execution_count": 10,
   "metadata": {},
   "outputs": [],
   "source": [
    "dept_results = check_key_in_json_file(sw_ticket_details[\"department\"], dep_file)\n",
    "if dept_results[0]:\n",
    "    os_ticket_details[\"department\"] = dept_results[1]\n",
    "    os_ticket_details[\"department_id\"] = check_key_in_json_file(sw_ticket_details[\"department\"], dep_id_file)[1]\n",
    "else:\n",
    "    os_ticket_details[\"department\"] = \"IMPORTED\"\n",
    "    os_ticket_details[\"department_id\"] = 34"
   ]
  },
  {
   "cell_type": "code",
   "execution_count": null,
   "metadata": {},
   "outputs": [],
   "source": [
    "os_ticket_details"
   ]
  },
  {
   "cell_type": "markdown",
   "metadata": {},
   "source": [
    "##### **6. OSTICKET IMPORT:** Create Ticket"
   ]
  },
  {
   "cell_type": "code",
   "execution_count": null,
   "metadata": {},
   "outputs": [],
   "source": [
    "os_ticket_result = create_ticket(os_ticket_details, hostname=hostname, database_name=database)\n",
    "if os_ticket_result[0]:\n",
    "    print('\\nTicket was created & closed!')\n",
    "    print('\\U0001f984 Ticket ID: {}\\n\\U0001f984 Ticket Number: {}\\n'.format(os_ticket_result[1], os_ticket_details[\"id\"]))\n",
    "else:\n",
    "    print('\\nTicket already exists! \\n\\U0001f47B Ticket Number: {}'.format(os_ticket_details[\"id\"]))\n",
    "    print('\\U0001f47B Ticket ID: {}\\n'.format(os_ticket_result[1]))"
   ]
  },
  {
   "cell_type": "code",
   "execution_count": 13,
   "metadata": {},
   "outputs": [],
   "source": [
    "os_ticket_id = os_ticket_result[1]"
   ]
  },
  {
   "cell_type": "markdown",
   "metadata": {},
   "source": [
    "##### **7. OSTICKET IMPORT:** Build Comments Dictionary\n",
    "\n"
   ]
  },
  {
   "cell_type": "markdown",
   "metadata": {},
   "source": [
    "##### Comment Detail Conversion Table\n",
    "\n",
    "|sw_comment_details|os_comment_details|\n",
    "|------------------|------------------|\n",
    "| 'id'             | 'ticket_id' (ost_ticket id)    |\n",
    "| 'body'           | 'body_html'      |\n",
    "|                  | 'staff_name'     |\n",
    "|                  | 'title'          |\n",
    "|                  | 'staff_id'       |"
   ]
  },
  {
   "cell_type": "code",
   "execution_count": 14,
   "metadata": {},
   "outputs": [],
   "source": [
    "os_comment_details = {}\n",
    "os_comment_details[\"ticket_id\"] = os_ticket_id\n",
    "os_comment_details[\"body_html\"] = sw_comment_details[\"body\"]\n",
    "os_comment_details[\"staff_name\"] =  import_bot_name\n",
    "os_comment_details[\"title\"] = \"All Replies/Comments\"\n",
    "os_comment_details[\"staff_id\"] = 11"
   ]
  },
  {
   "cell_type": "code",
   "execution_count": null,
   "metadata": {},
   "outputs": [],
   "source": [
    "os_comment_details"
   ]
  },
  {
   "cell_type": "markdown",
   "metadata": {},
   "source": [
    "##### **8. OSTICKET IMPORT:** Create Comment"
   ]
  },
  {
   "cell_type": "code",
   "execution_count": null,
   "metadata": {},
   "outputs": [],
   "source": [
    "os_comment_result = create_comment(os_comment_details, hostname=hostname, database_name=database)\n",
    "if os_comment_result[0]:\n",
    "    print('\\nComment was created!')\n",
    "    print('\\U0001f984 Ticket ID: {}\\n\\U0001f984 Thread ID: {}\\n'.format(os_comment_details[\"ticket_id\"], os_comment_result[1]))\n",
    "else:\n",
    "    print('\\nUnable to make comment! \\n:( Ticket Number: {}\\n'.format(os_comment_details[\"ticket_id\"]))"
   ]
  }
 ],
 "metadata": {
  "kernelspec": {
   "display_name": "Python 3",
   "language": "python",
   "name": "python3"
  },
  "language_info": {
   "codemirror_mode": {
    "name": "ipython",
    "version": 3
   },
   "file_extension": ".py",
   "mimetype": "text/x-python",
   "name": "python",
   "nbconvert_exporter": "python",
   "pygments_lexer": "ipython3",
   "version": "3.11.0"
  },
  "orig_nbformat": 4
 },
 "nbformat": 4,
 "nbformat_minor": 2
}
