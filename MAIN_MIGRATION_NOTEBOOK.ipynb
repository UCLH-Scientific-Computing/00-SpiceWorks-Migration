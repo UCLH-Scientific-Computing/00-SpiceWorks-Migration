{
 "cells": [
  {
   "cell_type": "markdown",
   "metadata": {},
   "source": [
    "### WorkFlow (Spiceworks -> OsTicket)\n",
    "\n",
    "Author:   Sierra Bonilla\n",
    "<br></br>\n",
    "Date:     04-08-2023\n",
    "<br></br>\n",
    "\n",
    "\n",
    "      FOR SW_TICKET_ID IN ALL_SW_TICKET_IDS:\n",
    "\n",
    "      --------------------- SPICEWORKS EXPORT ---------------------\n",
    "\n",
    "         1. TD = GET_TICKET(SW_TICKET_ID)\n",
    "         \n",
    "         2. UD = GET_USER(TD['ASSIGNED_TO'])\n",
    "         \n",
    "         3. CD = GET_COMMENT(SW_TICKET_ID)\n",
    "\n",
    "      ----------------------- OSTICKET IMPORT -----------------------\n",
    "\n",
    "         4. OS_USER_ID = CREATE_USER_IF_NOT_EXISTS(USER_DETAILS)\n",
    "\n",
    "         5. BUILD TICKET_DETAILS DICTIONARY \n",
    "\n",
    "         6. OS_TICKET_ID = CREATE_TICKET(TICKET_DETAILS)\n",
    "\n",
    "         7. BUILD COMMENT_DETAILS DICTIONARY \n",
    "\n",
    "         8. OS_THREAD_ID = CREATE_COMMENT(COMMENT_DETAILS)"
   ]
  },
  {
   "cell_type": "markdown",
   "metadata": {},
   "source": [
    "##### Import Functions/Libraries"
   ]
  },
  {
   "cell_type": "code",
   "execution_count": 40,
   "metadata": {},
   "outputs": [],
   "source": [
    "from get_ticket import get_ticket\n",
    "from get_user import get_user\n",
    "from get_comments import get_comments\n",
    "from create_ticket_helper_fns import check_key_in_json_file\n",
    "from create_user import create_user_if_not_exists\n",
    "from create_ticket import create_ticket\n",
    "from create_comment import create_comment"
   ]
  },
  {
   "cell_type": "markdown",
   "metadata": {},
   "source": [
    "##### Define Global Variables & File Paths"
   ]
  },
  {
   "cell_type": "code",
   "execution_count": 37,
   "metadata": {},
   "outputs": [],
   "source": [
    "ticket_id = 30\n",
    "hostname = 'spiceworks'\n",
    "database = 'osticket-clone'\n",
    "\n",
    "staff_id_file = r'dictionaries\\staff_email_to_id.txt'\n",
    "staff_username_file = r'dictionaries\\staff_email_to_un.txt'\n",
    "spe_file = r'dictionaries\\sw_spe_to_os_spe.txt'\n",
    "spe_id_file = r'dictionaries\\sw_spe_to_os_spe_id.txt'\n",
    "dep_file = r'dictionaries\\sw_dep_to_os_dep.txt'\n",
    "dep_id_file = r'dictionaries\\sw_dep_to_os_dep_id.txt'\n",
    "\n",
    "import_bot_id = 11\n",
    "import_bot_username = \"irobot\"\n",
    "import_bot_name = \"Import Bot\""
   ]
  },
  {
   "cell_type": "markdown",
   "metadata": {},
   "source": [
    "##### **1. SPICEWORKS EXPORT:** Get Ticket Details"
   ]
  },
  {
   "cell_type": "code",
   "execution_count": 3,
   "metadata": {},
   "outputs": [
    {
     "data": {
      "text/plain": [
       "{'id': 30,\n",
       " 'summary': 'Access to the cancer share drive',\n",
       " 'description': 'Hello\\n\\nI’m not sure this is the correct group to contact but I need access to the Cancer share drive. Is this something you could help with?\\n\\nKind regards\\n\\nSteph Karis – Senior Radiotherapy Dosimetrist\\n\\nRadiotherapy Physics Department\\n\\nDirect line telephone:020 3447 7732\\n\\nWe are committed to delivering top-quality patient care, excellent education and world class research\\n\\nsafety kindness teamwork improving\\n\\nUCLH website | Media | Become a member | Support our charities | Contact UCLH\\n\\nFind us on Facebook | Follow us on Twitt',\n",
       " 'created_at': '2020-04-30 13:25:27',\n",
       " 'closed_at': '2020-05-01 16:12:01',\n",
       " 'created_by': 's.karis@nhs.net',\n",
       " 'assigned_to': 'david.taylor4@nhs.net',\n",
       " 'spe': 'SHARE DRIVE',\n",
       " 'department': 'RADIOTHERAPY'}"
      ]
     },
     "execution_count": 3,
     "metadata": {},
     "output_type": "execute_result"
    }
   ],
   "source": [
    "sw_ticket_details = get_ticket(ticket_id)\n",
    "sw_ticket_details"
   ]
  },
  {
   "cell_type": "markdown",
   "metadata": {},
   "source": [
    "##### **2. SPICEWORKS EXPORT:** Get User Details"
   ]
  },
  {
   "cell_type": "code",
   "execution_count": 4,
   "metadata": {},
   "outputs": [
    {
     "data": {
      "text/plain": [
       "{'id': 19, 'email': 's.karis@nhs.net', 'name': None, 'phone': None}"
      ]
     },
     "execution_count": 4,
     "metadata": {},
     "output_type": "execute_result"
    }
   ],
   "source": [
    "sw_user_details = get_user(sw_ticket_details['created_by'])\n",
    "sw_user_details"
   ]
  },
  {
   "cell_type": "markdown",
   "metadata": {},
   "source": [
    "##### **3. SPICEWORKS EXPORT:** Get Comment Details"
   ]
  },
  {
   "cell_type": "code",
   "execution_count": 5,
   "metadata": {},
   "outputs": [
    {
     "data": {
      "text/plain": [
       "{'id': 30,\n",
       " 'body': '<h2>From Spiceworks</h2><h3><code>david.taylor4@nhs.net</code> on 2020-05-01 16:12:01:</h3><p>Ticket closed: sent email to user, advised would need to request Cancer Share access through Atos/ServiceNow as MedPhys cannot provision</p><hr><h3><code>david.taylor4@nhs.net</code> on 2020-04-30 17:35:59:</h3><p>Assigned to David Taylor.</p><hr><h3><code>s.karis@nhs.net</code> on 2020-04-30 13:25:27:</h3><p>Attachment:</p><p><em>image001.png</em></p><hr>Attachments folder: <code>\\\\\\\\spiceworks\\\\Ticket\\\\30</code>'}"
      ]
     },
     "execution_count": 5,
     "metadata": {},
     "output_type": "execute_result"
    }
   ],
   "source": [
    "sw_comment_details = get_comments(ticket_id)\n",
    "sw_comment_details"
   ]
  },
  {
   "cell_type": "markdown",
   "metadata": {},
   "source": [
    "##### **4. OSTICKET IMPORT:** Create User "
   ]
  },
  {
   "cell_type": "code",
   "execution_count": 9,
   "metadata": {},
   "outputs": [
    {
     "name": "stdout",
     "output_type": "stream",
     "text": [
      "User s.karis@nhs.net already exists with id 165\n"
     ]
    }
   ],
   "source": [
    "os_user_result = create_user_if_not_exists(sw_user_details, hostname=hostname, database=database)\n",
    "if os_user_result[0]:\n",
    "    print('User {} was created with id {}'.format(sw_user_details[\"email\"], os_user_result[1]))\n",
    "else:\n",
    "    print('User {} already exists with id {}'.format(sw_user_details[\"email\"], os_user_result[1]))"
   ]
  },
  {
   "cell_type": "markdown",
   "metadata": {},
   "source": [
    "##### **5. OSTICKET IMPORT:** Build Ticket Details "
   ]
  },
  {
   "cell_type": "markdown",
   "metadata": {},
   "source": [
    "##### Ticket Detail Conversion Table\n",
    "\n",
    "|sw_ticket_details   |os_ticket_details      |\n",
    "|--------------------|-----------------------|\n",
    "| 'id'               | 'id' (spiceworks id num)|\n",
    "| 'summary'          | 'summary'             |\n",
    "| 'description'      | 'description'         |\n",
    "| 'created_at'       | 'created_at'          |\n",
    "| 'closed_at'        | 'closed_at'           |\n",
    "| 'created_by' (email)| 'created_by' (osTicket user id)|\n",
    "|                    | 'created_by_email'    |\n",
    "| 'assigned_to'  (email)| 'assigned_to' (osTicket staff id)|\n",
    "|                    | 'assigned_to_username'|\n",
    "| 'spe' (spiceworks spe)| 'spe' (osTicket spe)|\n",
    "|                    | 'spe_id' (osTicket spe ID)|\n",
    "| 'department' (spiceworks dept.)| 'department' (osTicket dept.)|\n",
    "|                    | 'department_id' (osTicket dept. id)"
   ]
  },
  {
   "cell_type": "code",
   "execution_count": 23,
   "metadata": {},
   "outputs": [],
   "source": [
    "os_ticket_details = {}\n",
    "os_ticket_details[\"id\"] = sw_ticket_details[\"id\"]\n",
    "os_ticket_details[\"summary\"] = sw_ticket_details[\"summary\"]\n",
    "os_ticket_details[\"description\"] = sw_ticket_details[\"description\"]\n",
    "os_ticket_details[\"created_at\"] = sw_ticket_details[\"created_at\"]\n",
    "os_ticket_details[\"closed_at\"] = sw_ticket_details[\"closed_at\"]\n",
    "os_ticket_details[\"created_by\"] = os_user_result[1]\n",
    "os_ticket_details[\"created_by_email\"] = sw_user_details[\"email\"]"
   ]
  },
  {
   "cell_type": "markdown",
   "metadata": {},
   "source": [
    "`assigned_to`"
   ]
  },
  {
   "cell_type": "code",
   "execution_count": 25,
   "metadata": {},
   "outputs": [],
   "source": [
    "assigned_to_results = check_key_in_json_file(sw_ticket_details[\"assigned_to\"], staff_id_file)\n",
    "if assigned_to_results[0]:\n",
    "    os_ticket_details[\"assigned_to\"] = assigned_to_results[1]\n",
    "    os_ticket_details[\"assigned_to_username\"] = check_key_in_json_file(sw_ticket_details[\"assigned_to\"], staff_username_file)[1]\n",
    "else:\n",
    "    os_ticket_details[\"assigned_to\"] = import_bot_id\n",
    "    os_ticket_details[\"assigned_to_username\"] = import_bot_username "
   ]
  },
  {
   "cell_type": "markdown",
   "metadata": {},
   "source": [
    "`spe`"
   ]
  },
  {
   "cell_type": "code",
   "execution_count": 26,
   "metadata": {},
   "outputs": [],
   "source": [
    "spe_results = check_key_in_json_file(sw_ticket_details[\"spe\"], spe_file)\n",
    "if spe_results[0]:\n",
    "    os_ticket_details[\"spe\"] = spe_results[1]\n",
    "    os_ticket_details[\"spe_id\"] = check_key_in_json_file(sw_ticket_details[\"spe\"], spe_id_file)[1]\n",
    "else:\n",
    "    os_ticket_details[\"spe\"] = \"IMPORTED\"\n",
    "    os_ticket_details[\"spe_id\"] = 46"
   ]
  },
  {
   "cell_type": "markdown",
   "metadata": {},
   "source": [
    "`dept`"
   ]
  },
  {
   "cell_type": "code",
   "execution_count": 27,
   "metadata": {},
   "outputs": [],
   "source": [
    "dept_results = check_key_in_json_file(sw_ticket_details[\"department\"], dep_file)\n",
    "if dept_results[0]:\n",
    "    os_ticket_details[\"department\"] = dept_results[1]\n",
    "    os_ticket_details[\"department_id\"] = check_key_in_json_file(sw_ticket_details[\"department\"], dep_id_file)[1]\n",
    "else:\n",
    "    os_ticket_details[\"department\"] = \"IMPORTED\"\n",
    "    os_ticket_details[\"department_id\"] = 34"
   ]
  },
  {
   "cell_type": "code",
   "execution_count": 28,
   "metadata": {},
   "outputs": [
    {
     "data": {
      "text/plain": [
       "{'id': 30,\n",
       " 'summary': 'Access to the cancer share drive',\n",
       " 'description': 'Hello\\n\\nI’m not sure this is the correct group to contact but I need access to the Cancer share drive. Is this something you could help with?\\n\\nKind regards\\n\\nSteph Karis – Senior Radiotherapy Dosimetrist\\n\\nRadiotherapy Physics Department\\n\\nDirect line telephone:020 3447 7732\\n\\nWe are committed to delivering top-quality patient care, excellent education and world class research\\n\\nsafety kindness teamwork improving\\n\\nUCLH website | Media | Become a member | Support our charities | Contact UCLH\\n\\nFind us on Facebook | Follow us on Twitt',\n",
       " 'created_at': '2020-04-30 13:25:27',\n",
       " 'closed_at': '2020-05-01 16:12:01',\n",
       " 'created_by': 165,\n",
       " 'created_by_email': 's.karis@nhs.net',\n",
       " 'assigned_to': 5,\n",
       " 'assigned_to_username': 'dtaylor',\n",
       " 'spe': 'IMPORTED',\n",
       " 'spe_id': 46,\n",
       " 'department': 'RADIOTHERAPY',\n",
       " 'department_id': 40}"
      ]
     },
     "execution_count": 28,
     "metadata": {},
     "output_type": "execute_result"
    }
   ],
   "source": [
    "os_ticket_details"
   ]
  },
  {
   "cell_type": "markdown",
   "metadata": {},
   "source": [
    "##### **6. OSTICKET IMPORT:** Create Ticket"
   ]
  },
  {
   "cell_type": "code",
   "execution_count": 33,
   "metadata": {},
   "outputs": [
    {
     "name": "stdout",
     "output_type": "stream",
     "text": [
      "\n",
      "Ticket already exists! \n",
      "🦄 Ticket Number: 30\n",
      "\n"
     ]
    }
   ],
   "source": [
    "os_ticket_result = create_ticket(os_ticket_details, hostname=hostname, database_name=database)\n",
    "if os_ticket_result[0]:\n",
    "    print('\\nTicket was created & closed!')\n",
    "    print('\\U0001f984 Ticket ID: {}\\n \\U0001f984 Ticket Number: {}\\n'.format(os_ticket_result[1], os_ticket_details[\"id\"]))\n",
    "else:\n",
    "    print('\\nTicket already exists! \\n\\U0001f984 Ticket Number: {}\\n'.format(os_ticket_details[\"id\"]))"
   ]
  },
  {
   "cell_type": "markdown",
   "metadata": {},
   "source": [
    "##### **7. OSTICKET IMPORT:** Build Comments Dictionary\n",
    "\n"
   ]
  },
  {
   "cell_type": "markdown",
   "metadata": {},
   "source": [
    "##### Comment Detail Conversion Table\n",
    "\n",
    "|sw_comment_details|os_comment_details|\n",
    "|------------------|------------------|\n",
    "| 'id'             | 'ticket_id' (ost_ticket id)    |\n",
    "| 'body'           | 'body_html'      |\n",
    "|                  | 'staff_name'     |\n",
    "|                  | 'title'          |\n",
    "|                  | 'staff_id'       |"
   ]
  },
  {
   "cell_type": "code",
   "execution_count": 42,
   "metadata": {},
   "outputs": [],
   "source": [
    "os_comment_details = {}\n",
    "os_comment_details[\"ticket_id\"] = os_ticket_result[1]\n",
    "os_comment_details[\"body_html\"] = sw_comment_details[\"body\"]\n",
    "os_comment_details[\"staff_name\"] =  import_bot_name\n",
    "os_comment_details[\"title\"] = \"All Replies/Comments\"\n",
    "os_comment_details[\"staff_id\"] = 11"
   ]
  },
  {
   "cell_type": "code",
   "execution_count": 43,
   "metadata": {},
   "outputs": [
    {
     "data": {
      "text/plain": [
       "{'ticket_id': None,\n",
       " 'body_html': '<h2>From Spiceworks</h2><h3><code>david.taylor4@nhs.net</code> on 2020-05-01 16:12:01:</h3><p>Ticket closed: sent email to user, advised would need to request Cancer Share access through Atos/ServiceNow as MedPhys cannot provision</p><hr><h3><code>david.taylor4@nhs.net</code> on 2020-04-30 17:35:59:</h3><p>Assigned to David Taylor.</p><hr><h3><code>s.karis@nhs.net</code> on 2020-04-30 13:25:27:</h3><p>Attachment:</p><p><em>image001.png</em></p><hr>Attachments folder: <code>\\\\\\\\spiceworks\\\\Ticket\\\\30</code>',\n",
       " 'staff_name': 'Import Bot',\n",
       " 'title': 'All Replies/Comments',\n",
       " 'staff_id': 11}"
      ]
     },
     "execution_count": 43,
     "metadata": {},
     "output_type": "execute_result"
    }
   ],
   "source": [
    "os_comment_details"
   ]
  },
  {
   "cell_type": "markdown",
   "metadata": {},
   "source": [
    "##### **8. OSTICKET IMPORT:** Create Comment"
   ]
  },
  {
   "cell_type": "code",
   "execution_count": 44,
   "metadata": {},
   "outputs": [
    {
     "ename": "IntegrityError",
     "evalue": "1048 (23000): Column 'thread_id' cannot be null",
     "output_type": "error",
     "traceback": [
      "\u001b[1;31m---------------------------------------------------------------------------\u001b[0m",
      "\u001b[1;31mMySQLInterfaceError\u001b[0m                       Traceback (most recent call last)",
      "File \u001b[1;32mc:\\Python311\\Lib\\site-packages\\mysql\\connector\\connection_cext.py:611\u001b[0m, in \u001b[0;36mCMySQLConnection.cmd_query\u001b[1;34m(self, query, raw, buffered, raw_as_string)\u001b[0m\n\u001b[0;32m    610\u001b[0m         query \u001b[39m=\u001b[39m query\u001b[39m.\u001b[39mencode(\u001b[39m\"\u001b[39m\u001b[39mutf-8\u001b[39m\u001b[39m\"\u001b[39m)\n\u001b[1;32m--> 611\u001b[0m     \u001b[39mself\u001b[39;49m\u001b[39m.\u001b[39;49m_cmysql\u001b[39m.\u001b[39;49mquery(\n\u001b[0;32m    612\u001b[0m         query,\n\u001b[0;32m    613\u001b[0m         raw\u001b[39m=\u001b[39;49mraw,\n\u001b[0;32m    614\u001b[0m         buffered\u001b[39m=\u001b[39;49mbuffered,\n\u001b[0;32m    615\u001b[0m         raw_as_string\u001b[39m=\u001b[39;49mraw_as_string,\n\u001b[0;32m    616\u001b[0m         query_attrs\u001b[39m=\u001b[39;49m\u001b[39mself\u001b[39;49m\u001b[39m.\u001b[39;49m_query_attrs,\n\u001b[0;32m    617\u001b[0m     )\n\u001b[0;32m    618\u001b[0m \u001b[39mexcept\u001b[39;00m MySQLInterfaceError \u001b[39mas\u001b[39;00m err:\n",
      "\u001b[1;31mMySQLInterfaceError\u001b[0m: Column 'thread_id' cannot be null",
      "\nThe above exception was the direct cause of the following exception:\n",
      "\u001b[1;31mIntegrityError\u001b[0m                            Traceback (most recent call last)",
      "Cell \u001b[1;32mIn[44], line 1\u001b[0m\n\u001b[1;32m----> 1\u001b[0m os_comment_result \u001b[39m=\u001b[39m create_comment(os_comment_details, hostname\u001b[39m=\u001b[39;49mhostname, database_name\u001b[39m=\u001b[39;49mdatabase)\n\u001b[0;32m      2\u001b[0m \u001b[39mif\u001b[39;00m os_comment_result[\u001b[39m0\u001b[39m]:\n\u001b[0;32m      3\u001b[0m     \u001b[39mprint\u001b[39m(\u001b[39m'\u001b[39m\u001b[39m\\n\u001b[39;00m\u001b[39mComment was created!\u001b[39m\u001b[39m'\u001b[39m)\n",
      "File \u001b[1;32mc:\\Users\\sbonilla\\OneDrive - NHS\\Systems\\00-07-Spiceworks\\00-Migration\\03-REPOS\\00-SpiceWorks-Migration\\create_comment.py:84\u001b[0m, in \u001b[0;36mcreate_comment\u001b[1;34m(comment_details, hostname, database_name)\u001b[0m\n\u001b[0;32m     81\u001b[0m connection\u001b[39m.\u001b[39mrollback()\n\u001b[0;32m     83\u001b[0m \u001b[39m# Handle the error\u001b[39;00m\n\u001b[1;32m---> 84\u001b[0m \u001b[39mraise\u001b[39;00m error\n",
      "File \u001b[1;32mc:\\Users\\sbonilla\\OneDrive - NHS\\Systems\\00-07-Spiceworks\\00-Migration\\03-REPOS\\00-SpiceWorks-Migration\\create_comment.py:58\u001b[0m, in \u001b[0;36mcreate_comment\u001b[1;34m(comment_details, hostname, database_name)\u001b[0m\n\u001b[0;32m     52\u001b[0m \u001b[39m# ----------------------------------------- POST COMMENT ------------------------------------------ \u001b[39;00m\n\u001b[0;32m     53\u001b[0m \n\u001b[0;32m     54\u001b[0m \u001b[39m# Insert into ost_thread_entry html_body\u001b[39;00m\n\u001b[0;32m     55\u001b[0m query_html_comment \u001b[39m=\u001b[39m \u001b[39m\"\"\"\u001b[39m\u001b[39mINSERT INTO `ost_thread_entry` SET `created` = NOW(), `type` = \u001b[39m\u001b[39m'\u001b[39m\u001b[39mN\u001b[39m\u001b[39m'\u001b[39m\u001b[39m, \u001b[39m\n\u001b[0;32m     56\u001b[0m \u001b[39m`thread_id` = \u001b[39m\u001b[39m%s\u001b[39;00m\u001b[39m, `title` = \u001b[39m\u001b[39m%s\u001b[39;00m\u001b[39m, `format` = \u001b[39m\u001b[39m'\u001b[39m\u001b[39mhtml\u001b[39m\u001b[39m'\u001b[39m\u001b[39m, `staff_id` = \u001b[39m\u001b[39m%s\u001b[39;00m\u001b[39m, \u001b[39m\n\u001b[0;32m     57\u001b[0m \u001b[39m`poster` = \u001b[39m\u001b[39m%s\u001b[39;00m\u001b[39m, `flags` = 64, `ip_address` = \u001b[39m\u001b[39m'\u001b[39m\u001b[39m8.8.8.8\u001b[39m\u001b[39m'\u001b[39m\u001b[39m, `body` = \u001b[39m\u001b[39m%s\u001b[39;00m\u001b[39m, `updated` = NOW()\u001b[39m\u001b[39m\"\"\"\u001b[39m\n\u001b[1;32m---> 58\u001b[0m cursor\u001b[39m.\u001b[39;49mexecute(query_html_comment, (ticket_id, title, staff_id, staff_name, body_html))\n\u001b[0;32m     60\u001b[0m \u001b[39m# Get thread_entry_id \u001b[39;00m\n\u001b[0;32m     61\u001b[0m thread_entry_id \u001b[39m=\u001b[39m cursor\u001b[39m.\u001b[39mlastrowid \n",
      "File \u001b[1;32mc:\\Python311\\Lib\\site-packages\\mysql\\connector\\cursor_cext.py:330\u001b[0m, in \u001b[0;36mCMySQLCursor.execute\u001b[1;34m(self, operation, params, multi)\u001b[0m\n\u001b[0;32m    325\u001b[0m             \u001b[39mraise\u001b[39;00m ProgrammingError(\n\u001b[0;32m    326\u001b[0m                 \u001b[39m\"\u001b[39m\u001b[39mNot all parameters were used in the SQL statement\u001b[39m\u001b[39m\"\u001b[39m\n\u001b[0;32m    327\u001b[0m             )\n\u001b[0;32m    329\u001b[0m \u001b[39mtry\u001b[39;00m:\n\u001b[1;32m--> 330\u001b[0m     result \u001b[39m=\u001b[39m \u001b[39mself\u001b[39;49m\u001b[39m.\u001b[39;49m_cnx\u001b[39m.\u001b[39;49mcmd_query(\n\u001b[0;32m    331\u001b[0m         stmt,\n\u001b[0;32m    332\u001b[0m         raw\u001b[39m=\u001b[39;49m\u001b[39mself\u001b[39;49m\u001b[39m.\u001b[39;49m_raw,\n\u001b[0;32m    333\u001b[0m         buffered\u001b[39m=\u001b[39;49m\u001b[39mself\u001b[39;49m\u001b[39m.\u001b[39;49m_buffered,\n\u001b[0;32m    334\u001b[0m         raw_as_string\u001b[39m=\u001b[39;49m\u001b[39mself\u001b[39;49m\u001b[39m.\u001b[39;49m_raw_as_string,\n\u001b[0;32m    335\u001b[0m     )\n\u001b[0;32m    336\u001b[0m \u001b[39mexcept\u001b[39;00m MySQLInterfaceError \u001b[39mas\u001b[39;00m err:\n\u001b[0;32m    337\u001b[0m     \u001b[39mraise\u001b[39;00m get_mysql_exception(\n\u001b[0;32m    338\u001b[0m         msg\u001b[39m=\u001b[39merr\u001b[39m.\u001b[39mmsg, errno\u001b[39m=\u001b[39merr\u001b[39m.\u001b[39merrno, sqlstate\u001b[39m=\u001b[39merr\u001b[39m.\u001b[39msqlstate\n\u001b[0;32m    339\u001b[0m     ) \u001b[39mfrom\u001b[39;00m \u001b[39merr\u001b[39;00m\n",
      "File \u001b[1;32mc:\\Python311\\Lib\\site-packages\\mysql\\connector\\connection_cext.py:619\u001b[0m, in \u001b[0;36mCMySQLConnection.cmd_query\u001b[1;34m(self, query, raw, buffered, raw_as_string)\u001b[0m\n\u001b[0;32m    611\u001b[0m     \u001b[39mself\u001b[39m\u001b[39m.\u001b[39m_cmysql\u001b[39m.\u001b[39mquery(\n\u001b[0;32m    612\u001b[0m         query,\n\u001b[0;32m    613\u001b[0m         raw\u001b[39m=\u001b[39mraw,\n\u001b[1;32m   (...)\u001b[0m\n\u001b[0;32m    616\u001b[0m         query_attrs\u001b[39m=\u001b[39m\u001b[39mself\u001b[39m\u001b[39m.\u001b[39m_query_attrs,\n\u001b[0;32m    617\u001b[0m     )\n\u001b[0;32m    618\u001b[0m \u001b[39mexcept\u001b[39;00m MySQLInterfaceError \u001b[39mas\u001b[39;00m err:\n\u001b[1;32m--> 619\u001b[0m     \u001b[39mraise\u001b[39;00m get_mysql_exception(\n\u001b[0;32m    620\u001b[0m         err\u001b[39m.\u001b[39merrno, msg\u001b[39m=\u001b[39merr\u001b[39m.\u001b[39mmsg, sqlstate\u001b[39m=\u001b[39merr\u001b[39m.\u001b[39msqlstate\n\u001b[0;32m    621\u001b[0m     ) \u001b[39mfrom\u001b[39;00m \u001b[39merr\u001b[39;00m\n\u001b[0;32m    622\u001b[0m \u001b[39mexcept\u001b[39;00m \u001b[39mAttributeError\u001b[39;00m \u001b[39mas\u001b[39;00m err:\n\u001b[0;32m    623\u001b[0m     addr \u001b[39m=\u001b[39m (\n\u001b[0;32m    624\u001b[0m         \u001b[39mself\u001b[39m\u001b[39m.\u001b[39m_unix_socket \u001b[39mif\u001b[39;00m \u001b[39mself\u001b[39m\u001b[39m.\u001b[39m_unix_socket \u001b[39melse\u001b[39;00m \u001b[39mf\u001b[39m\u001b[39m\"\u001b[39m\u001b[39m{\u001b[39;00m\u001b[39mself\u001b[39m\u001b[39m.\u001b[39m_host\u001b[39m}\u001b[39;00m\u001b[39m:\u001b[39m\u001b[39m{\u001b[39;00m\u001b[39mself\u001b[39m\u001b[39m.\u001b[39m_port\u001b[39m}\u001b[39;00m\u001b[39m\"\u001b[39m\n\u001b[0;32m    625\u001b[0m     )\n",
      "\u001b[1;31mIntegrityError\u001b[0m: 1048 (23000): Column 'thread_id' cannot be null"
     ]
    }
   ],
   "source": [
    "os_comment_result = create_comment(os_comment_details, hostname=hostname, database_name=database)\n",
    "if os_comment_result[0]:\n",
    "    print('\\nComment was created!')\n",
    "    print('\\U0001f984 Ticket ID: {}\\n \\U0001f984 Thread ID: {}\\n'.format(os_comment_details[\"ticket_id\"], os_comment_result[1]))\n",
    "else:\n",
    "    print('\\nUnable to make comment! \\n:( Ticket Number: {}\\n'.format(os_comment_details[\"ticket_id\"]))"
   ]
  },
  {
   "cell_type": "markdown",
   "metadata": {},
   "source": []
  }
 ],
 "metadata": {
  "kernelspec": {
   "display_name": "Python 3",
   "language": "python",
   "name": "python3"
  },
  "language_info": {
   "codemirror_mode": {
    "name": "ipython",
    "version": 3
   },
   "file_extension": ".py",
   "mimetype": "text/x-python",
   "name": "python",
   "nbconvert_exporter": "python",
   "pygments_lexer": "ipython3",
   "version": "3.11.0"
  },
  "orig_nbformat": 4
 },
 "nbformat": 4,
 "nbformat_minor": 2
}
